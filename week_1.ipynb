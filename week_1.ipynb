{
 "cells": [
  {
   "cell_type": "code",
   "execution_count": 24,
   "metadata": {},
   "outputs": [
    {
     "name": "stdout",
     "output_type": "stream",
     "text": [
      "введите трехзначное число: 111\n",
      "\n",
      " сумма = 3.0 \n",
      "\n",
      " произведение = 1.0\n"
     ]
    }
   ],
   "source": [
    "# 1. Найти сумму и произведение цифр трехзначного числа, которое вводит пользователь.\n",
    "\n",
    "# ссылка на блок схему: https://drive.google.com/file/d/1PjtjoIIinvaGgVL6Wc4B9wBCVn8gzdOq/view?usp=sharing
    "\n",
    "import sys \n",
    "\n",
    "inp = float(input('введите трехзначное число: '))\n",
    "summ, mult = 0, 0\n",
    "if inp == 100:\n",
    "    summ, mult = 1, 0\n",
    "elif inp == -100:\n",
    "    summ, mult = -1, 0\n",
    "elif inp > 100 and inp < 999:\n",
    "    euc_1 = inp // 100\n",
    "    euc_2 = (inp // 10) % 10\n",
    "    euc_3 = inp % 10\n",
    "elif inp > -999 and inp < -100:\n",
    "    euc_1 = inp // -100\n",
    "    euc_2 = (inp // -10) % -10\n",
    "    euc_3 = inp % -10\n",
    "else:\n",
    "    sys.exit('число не трехзначное, программа прерывается')\n",
    "summ = euc_1 + euc_2 + euc_3\n",
    "mult = euc_1 * euc_2 * euc_3\n",
    "print('\\n', f'сумма = {summ}','\\n'*2, f'произведение = {mult}')"
   ]
  }
 ],
 "metadata": {
  "kernelspec": {
   "display_name": "Python 3",
   "language": "python",
   "name": "python3"
  },
  "language_info": {
   "codemirror_mode": {
    "name": "ipython",
    "version": 3
   },
   "file_extension": ".py",
   "mimetype": "text/x-python",
   "name": "python",
   "nbconvert_exporter": "python",
   "pygments_lexer": "ipython3",
   "version": "3.7.0"
  }
 },
 "nbformat": 4,
 "nbformat_minor": 2
}